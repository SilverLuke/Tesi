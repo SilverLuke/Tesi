{
 "cells": [
  {
   "cell_type": "code",
   "execution_count": 1,
   "metadata": {
    "collapsed": true
   },
   "outputs": [
    {
     "name": "stdout",
     "output_type": "stream",
     "text": [
      "Data dir: /dati/luca/Uni-Luca/Tesi/tesi/datasets\n"
     ]
    }
   ],
   "source": [
    "from sklearn.model_selection import train_test_split\n",
    "import sys\n",
    "import os\n",
    "\n",
    "PROJECT_ROOT = os.path.abspath(os.getcwd() + os.sep + os.pardir)\n",
    "sys.path.insert(0, PROJECT_ROOT)\n",
    "\n",
    "from lib.time_series_datasets import *\n",
    "\n",
    "DATA_ROOT = os.path.join(PROJECT_ROOT, \"datasets\")\n",
    "\n",
    "print(\"Data dir:\", DATA_ROOT)\n"
   ]
  },
  {
   "cell_type": "code",
   "execution_count": 2,
   "outputs": [
    {
     "name": "stderr",
     "output_type": "stream",
     "text": [
      "/dati/luca/Uni-Luca/Tesi/tesi/venv/lib/python3.9/site-packages/sktime/utils/data_io.py:63: FutureWarning: This function has moved to datasets/_data_io, this version will be removed in V0.10\n",
      "  warn(\n"
     ]
    },
    {
     "name": "stdout",
     "output_type": "stream",
     "text": [
      "       Dataset : Handwriting\n",
      "Input features : 3\n",
      "Output classes : 26\n",
      "\n",
      "       Dataset : Epilepsy\n",
      "Input features : 3\n",
      "Output classes : 4\n",
      "\n",
      "       Dataset : FingerMovements\n",
      "Input features : 28\n",
      "Output classes : 2\n",
      "\n",
      "       Dataset : Heartbeat\n",
      "Input features : 61\n",
      "Output classes : 2\n",
      "\n",
      "       Dataset : LSST\n",
      "Input features : 6\n",
      "Output classes : 14\n",
      "\n",
      "       Dataset : UWaveGestureLibrary\n",
      "Input features : 3\n",
      "Output classes : 8\n",
      "\n"
     ]
    },
    {
     "name": "stderr",
     "output_type": "stream",
     "text": [
      "/dati/luca/Uni-Luca/Tesi/tesi/venv/lib/python3.9/site-packages/sktime/utils/data_io.py:732: PerformanceWarning: DataFrame is highly fragmented.  This is usually the result of calling `frame.insert` many times, which has poor performance.  Consider joining all columns at once using pd.concat(axis=1) instead.  To get a de-fragmented frame, use `newframe = frame.copy()`\n",
      "  data[\"dim_\" + str(dim)] = instance_list[dim]\n"
     ]
    },
    {
     "name": "stdout",
     "output_type": "stream",
     "text": [
      "       Dataset : FaceDetection\n",
      "Input features : 144\n",
      "Output classes : 2\n",
      "\n",
      "       Dataset : MotorImagery\n",
      "Input features : 64\n",
      "Output classes : 2\n",
      "\n",
      "       Dataset : HandMovementDirection\n",
      "Input features : 10\n",
      "Output classes : 4\n",
      "\n",
      "       Dataset : Libras\n",
      "Input features : 2\n",
      "Output classes : 15\n",
      "\n",
      "       Dataset : ERing\n",
      "Input features : 4\n",
      "Output classes : 6\n",
      "\n",
      "       Dataset : EigenWorms\n",
      "Input features : 6\n",
      "Output classes : 5\n",
      "\n",
      "       Dataset : Cricket\n",
      "Input features : 6\n",
      "Output classes : 12\n",
      "\n",
      "       Dataset : RacketSports\n",
      "Input features : 6\n",
      "Output classes : 4\n",
      "\n",
      "       Dataset : EthanolConcentration\n",
      "Input features : 3\n",
      "Output classes : 4\n",
      "\n",
      "       Dataset : SelfRegulationSCP2\n",
      "Input features : 7\n",
      "Output classes : 2\n",
      "\n",
      "       Dataset : LargeKitchenAppliances\n",
      "Input features : 1\n",
      "Output classes : 3\n",
      "\n",
      "       Dataset : AtrialFibrillation\n",
      "Input features : 2\n",
      "Output classes : 3\n",
      "\n",
      "       Dataset : NATOPS\n",
      "Input features : 24\n",
      "Output classes : 6\n",
      "\n",
      "       Dataset : CharacterTrajectories\n",
      "Input features : 3\n",
      "Output classes : 20\n",
      "\n",
      "       Dataset : JapaneseVowels\n",
      "Input features : 12\n",
      "Output classes : 9\n",
      "\n",
      "       Dataset : PhonemeSpectra\n",
      "Input features : 11\n",
      "Output classes : 39\n",
      "\n",
      "       Dataset : ECG5000\n",
      "Input features : 1\n",
      "Output classes : 5\n",
      "\n",
      "       Dataset : BasicMotions\n",
      "Input features : 6\n",
      "Output classes : 4\n",
      "\n",
      "       Dataset : StandWalkJump\n",
      "Input features : 4\n",
      "Output classes : 3\n",
      "\n",
      "       Dataset : ArticularyWordRecognition\n",
      "Input features : 9\n",
      "Output classes : 25\n",
      "\n",
      "       Dataset : SpokenArabicDigits\n",
      "Input features : 13\n",
      "Output classes : 10\n",
      "\n",
      "       Dataset : PEMS-SF\n",
      "Input features : 963\n",
      "Output classes : 7\n",
      "\n",
      "       Dataset : PenDigits\n",
      "Input features : 2\n",
      "Output classes : 10\n",
      "\n",
      "       Dataset : InsectWingbeat\n",
      "Input features : 200\n",
      "Output classes : 10\n",
      "\n",
      "       Dataset : SelfRegulationSCP1\n",
      "Input features : 6\n",
      "Output classes : 2\n",
      "\n",
      "       Dataset : DuckDuckGeese\n",
      "Input features : 1345\n",
      "Output classes : 5\n",
      "\n"
     ]
    }
   ],
   "source": [
    "\n",
    "dirs = os.listdir(DATA_ROOT)\n",
    "for dataset_name in dirs:\n",
    "    path = os.path.join(DATA_ROOT, dataset_name)\n",
    "    if not os.path.isdir(path):\n",
    "        continue\n",
    "\n",
    "\n",
    "    train_path = os.path.join(DATA_ROOT, dataset_name, dataset_name + '_TRAIN.ts')\n",
    "    test_path = os.path.join(DATA_ROOT, dataset_name, dataset_name + '_TEST.ts')\n",
    "\n",
    "    x_train_all, y_train_all = load_sktime_dataset(train_path)\n",
    "    x_test, y_test = load_sktime_dataset(test_path)\n",
    "\n",
    "    x_train, x_val, y_train, y_val = train_test_split(x_train_all, y_train_all, test_size=0.33)\n",
    "\n",
    "    print(\"       Dataset : {}\".format(dataset_name))\n",
    "    print(\"Input features : {}\".format(x_train.shape[-1]))\n",
    "    print(\"Output classes : {}\\n\".format(len(np.unique(y_test))))\n",
    "    #print(\"Train shape:\\n\\tinput: {}\\n\\toutput: {}\".format(x_train.shape, y_train.shape))\n",
    "    #print(\"Validation shape:\\n\\tinput: {}\\n\\toutput: {}\".format(x_val.shape, y_val.shape))\n",
    "    #print(\"Test shape:\\n\\tinput: {}\\n\\toutput: {}\".format(x_test.shape, y_test.shape))"
   ],
   "metadata": {
    "collapsed": false,
    "pycharm": {
     "name": "#%%\n"
    }
   }
  }
 ],
 "metadata": {
  "kernelspec": {
   "name": "python3",
   "language": "python",
   "display_name": "Python 3 (ipykernel)"
  },
  "language_info": {
   "codemirror_mode": {
    "name": "ipython",
    "version": 2
   },
   "file_extension": ".py",
   "mimetype": "text/x-python",
   "name": "python",
   "nbconvert_exporter": "python",
   "pygments_lexer": "ipython2",
   "version": "2.7.6"
  }
 },
 "nbformat": 4,
 "nbformat_minor": 0
}