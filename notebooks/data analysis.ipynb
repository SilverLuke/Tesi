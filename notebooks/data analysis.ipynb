{
 "cells": [
  {
   "cell_type": "code",
   "execution_count": 55,
   "outputs": [
    {
     "name": "stdout",
     "output_type": "stream",
     "text": [
      "The autoreload extension is already loaded. To reload it, use:\n",
      "  %reload_ext autoreload\n"
     ]
    }
   ],
   "source": [
    "%load_ext autoreload\n",
    "%autoreload 2"
   ],
   "metadata": {
    "collapsed": false,
    "pycharm": {
     "name": "#%%\n"
    }
   }
  },
  {
   "cell_type": "code",
   "execution_count": 56,
   "outputs": [],
   "source": [
    "from benchmarks import *\n",
    "from plotting import *\n",
    "PROJECT_ROOT = os.path.abspath(os.getcwd() + os.sep + os.pardir)\n",
    "BENCHMARKS_DIR = os.path.join(PROJECT_ROOT, \"benchmarks\")"
   ],
   "metadata": {
    "collapsed": false,
    "pycharm": {
     "name": "#%%\n"
    }
   }
  },
  {
   "cell_type": "code",
   "execution_count": 65,
   "outputs": [
    {
     "name": "stdout",
     "output_type": "stream",
     "text": [
      "['ArticularyWordRecognition']\n",
      "['Multiple SR Multiple IS', 'Multiple SR Multiple IS vsr', 'Multiple SR Single IS', 'Multiple SR Single IS vsr', 'Reference', 'Single SR Single IS', 'Single SR Single IS vsr']\n",
      "['Units 100']\n",
      "['ESN', 'IRESN', 'IIRESN']\n"
     ]
    }
   ],
   "source": [
    "from plotting import Plotter\n",
    "\n",
    "TUNER = \"RandomSearch\"  # \"Hyperband\" or \"BayesianOptimization\" or \"RandomSearch\" or \"origin\"\n",
    "MAX_EPOCHS = 5\n",
    "MAX_TRIALS = 5\n",
    "DESC = \"Esperimenti\"\n",
    "\n",
    "TUNER_STRING = TUNER + \".\" + str(MAX_EPOCHS) + \"me\" + str(MAX_TRIALS) + \"mt.\" + DESC\n",
    "\n",
    "PATH = os.path.join(BENCHMARKS_DIR, TUNER_STRING + \".json\")\n",
    "#PATH = \"/home/luca/tesi tmp/benchmarks.json\"\n",
    "#PATH = \"/home/luca/RandomSearch.500me500mt.Esperimenti.json\"\n",
    "\n",
    "benchmarks = BenchmarksDB(load_path=PATH)\n",
    "print(benchmarks.list_datasets())\n",
    "print(benchmarks.list_classes())\n",
    "print(benchmarks.list_experiments())\n",
    "print(benchmarks.list_models())\n",
    "\n",
    "plotter = Plotter(benchmarks, \"/tmp/plots/Esperimenti\")"
   ],
   "metadata": {
    "collapsed": false,
    "pycharm": {
     "name": "#%%\n"
    }
   }
  },
  {
   "cell_type": "code",
   "execution_count": 58,
   "outputs": [
    {
     "ename": "KeyError",
     "evalue": "'Single S.R.'",
     "output_type": "error",
     "traceback": [
      "\u001B[0;31m---------------------------------------------------------------------------\u001B[0m",
      "\u001B[0;31mKeyError\u001B[0m                                  Traceback (most recent call last)",
      "Input \u001B[0;32mIn [58]\u001B[0m, in \u001B[0;36m<module>\u001B[0;34m\u001B[0m\n\u001B[0;32m----> 1\u001B[0m \u001B[43mplotter\u001B[49m\u001B[38;5;241;43m.\u001B[39;49m\u001B[43mlatex_table\u001B[49m\u001B[43m(\u001B[49m\u001B[43m)\u001B[49m\n",
      "File \u001B[0;32m/dati/luca/Uni-Luca/Tesi/progetto/notebooks/plotting.py:217\u001B[0m, in \u001B[0;36mPlotter.latex_table\u001B[0;34m(self, path)\u001B[0m\n\u001B[1;32m    215\u001B[0m     table \u001B[38;5;241m+\u001B[39m\u001B[38;5;241m=\u001B[39m \u001B[38;5;124m\"\u001B[39m\u001B[38;5;130;01m\\\\\u001B[39;00m\u001B[38;5;124mmulticolumn\u001B[39m\u001B[38;5;124m{\u001B[39m\u001B[38;5;132;01m%i\u001B[39;00m\u001B[38;5;124m}\u001B[39m\u001B[38;5;132;01m{c}\u001B[39;00m\u001B[38;5;124m{\u001B[39m\u001B[38;5;130;01m\\\\\u001B[39;00m\u001B[38;5;124mtextbf\u001B[39m\u001B[38;5;124m{\u001B[39m\u001B[38;5;132;01m%s\u001B[39;00m\u001B[38;5;124m}}\u001B[39m\u001B[38;5;130;01m\\\\\u001B[39;00m\u001B[38;5;124mtabularnewline\u001B[39m\u001B[38;5;130;01m\\n\u001B[39;00m\u001B[38;5;124m\"\u001B[39m \u001B[38;5;241m%\u001B[39m (columns, dataset)\n\u001B[1;32m    216\u001B[0m     table \u001B[38;5;241m+\u001B[39m\u001B[38;5;241m=\u001B[39m \u001B[38;5;124m\"\u001B[39m\u001B[38;5;130;01m\\\\\u001B[39;00m\u001B[38;5;124mhline\u001B[39m\u001B[38;5;130;01m\\n\u001B[39;00m\u001B[38;5;124m\"\u001B[39m\n\u001B[0;32m--> 217\u001B[0m     table \u001B[38;5;241m+\u001B[39m\u001B[38;5;241m=\u001B[39m \u001B[43msub_table\u001B[49m\u001B[43m(\u001B[49m\u001B[38;5;28;43mself\u001B[39;49m\u001B[38;5;241;43m.\u001B[39;49m\u001B[43mdb\u001B[49m\u001B[43m[\u001B[49m\u001B[43mdataset\u001B[49m\u001B[43m]\u001B[49m\u001B[43m,\u001B[49m\u001B[43m \u001B[49m\u001B[43mcolumns\u001B[49m\u001B[43m)\u001B[49m\n\u001B[1;32m    218\u001B[0m table \u001B[38;5;241m+\u001B[39m\u001B[38;5;241m=\u001B[39m \u001B[38;5;124m\"\u001B[39m\u001B[38;5;130;01m\\\\\u001B[39;00m\u001B[38;5;124mend\u001B[39m\u001B[38;5;132;01m{tabular}\u001B[39;00m\u001B[38;5;124m}\u001B[39m\u001B[38;5;130;01m\\n\u001B[39;00m\u001B[38;5;130;01m\\\\\u001B[39;00m\u001B[38;5;124mend\u001B[39m\u001B[38;5;132;01m{table}\u001B[39;00m\u001B[38;5;124m\"\u001B[39m\n\u001B[1;32m    219\u001B[0m path \u001B[38;5;241m=\u001B[39m get_path(path, \u001B[38;5;28mself\u001B[39m\u001B[38;5;241m.\u001B[39mpath)\n",
      "File \u001B[0;32m/dati/luca/Uni-Luca/Tesi/progetto/notebooks/plotting.py:181\u001B[0m, in \u001B[0;36mPlotter.latex_table.<locals>.sub_table\u001B[0;34m(dataset, columns)\u001B[0m\n\u001B[1;32m    179\u001B[0m table \u001B[38;5;241m+\u001B[39m\u001B[38;5;241m=\u001B[39m \u001B[38;5;124m\"\u001B[39m\u001B[38;5;130;01m\\\\\u001B[39;00m\u001B[38;5;124mmulticolumn\u001B[39m\u001B[38;5;124m{\u001B[39m\u001B[38;5;132;01m%i\u001B[39;00m\u001B[38;5;124m}\u001B[39m\u001B[38;5;132;01m{c}\u001B[39;00m\u001B[38;5;124m{\u001B[39m\u001B[38;5;132;01m%s\u001B[39;00m\u001B[38;5;124m}\u001B[39m\u001B[38;5;130;01m\\\\\u001B[39;00m\u001B[38;5;124mtabularnewline\u001B[39m\u001B[38;5;130;01m\\n\u001B[39;00m\u001B[38;5;124m\"\u001B[39m \u001B[38;5;241m%\u001B[39m (columns, \u001B[38;5;124m\"\u001B[39m\u001B[38;5;124mSingle Spectral Radius\u001B[39m\u001B[38;5;124m\"\u001B[39m)\n\u001B[1;32m    180\u001B[0m table \u001B[38;5;241m+\u001B[39m\u001B[38;5;241m=\u001B[39m \u001B[38;5;124m\"\u001B[39m\u001B[38;5;130;01m\\\\\u001B[39;00m\u001B[38;5;124mhline\u001B[39m\u001B[38;5;130;01m\\n\u001B[39;00m\u001B[38;5;124m\"\u001B[39m\n\u001B[0;32m--> 181\u001B[0m stat \u001B[38;5;241m=\u001B[39m \u001B[43mdataset\u001B[49m\u001B[43m[\u001B[49m\u001B[38;5;124;43m\"\u001B[39;49m\u001B[38;5;124;43mSingle S.R.\u001B[39;49m\u001B[38;5;124;43m\"\u001B[39;49m\u001B[43m]\u001B[49m[\u001B[38;5;124m\"\u001B[39m\u001B[38;5;124mUnits 100\u001B[39m\u001B[38;5;124m\"\u001B[39m][\u001B[38;5;124m\"\u001B[39m\u001B[38;5;124mIRESN\u001B[39m\u001B[38;5;124m\"\u001B[39m]\n\u001B[1;32m    182\u001B[0m table \u001B[38;5;241m+\u001B[39m\u001B[38;5;241m=\u001B[39m add_model(\u001B[38;5;124m\"\u001B[39m\u001B[38;5;124mIRESN\u001B[39m\u001B[38;5;124m\"\u001B[39m, stat)\n\u001B[1;32m    183\u001B[0m stat \u001B[38;5;241m=\u001B[39m dataset[\u001B[38;5;124m\"\u001B[39m\u001B[38;5;124mSingle S.R.\u001B[39m\u001B[38;5;124m\"\u001B[39m][\u001B[38;5;124m\"\u001B[39m\u001B[38;5;124mUnits 100\u001B[39m\u001B[38;5;124m\"\u001B[39m][\u001B[38;5;124m\"\u001B[39m\u001B[38;5;124mIIRESN\u001B[39m\u001B[38;5;124m\"\u001B[39m]\n",
      "\u001B[0;31mKeyError\u001B[0m: 'Single S.R.'"
     ]
    }
   ],
   "source": [
    "plotter.latex_table()"
   ],
   "metadata": {
    "collapsed": false,
    "pycharm": {
     "name": "#%%\n"
    }
   }
  },
  {
   "cell_type": "code",
   "execution_count": null,
   "outputs": [],
   "source": [
    "plotter.histograms_summary()"
   ],
   "metadata": {
    "collapsed": false,
    "pycharm": {
     "name": "#%%\n"
    }
   }
  },
  {
   "cell_type": "code",
   "execution_count": 66,
   "outputs": [
    {
     "name": "stdout",
     "output_type": "stream",
     "text": [
      "/tmp/plots/Esperimenti/esperimenti_summary_plot.svg\n",
      "CPU times: user 100 ms, sys: 30.9 ms, total: 131 ms\n",
      "Wall time: 80.9 ms\n"
     ]
    }
   ],
   "source": [
    "%%time\n",
    "\n",
    "for dataset in benchmarks.list_datasets():\n",
    "    plotter.esperimenti_summary(dataset)\n"
   ],
   "metadata": {
    "collapsed": false,
    "pycharm": {
     "name": "#%%\n"
    }
   }
  },
  {
   "cell_type": "code",
   "execution_count": 60,
   "outputs": [
    {
     "name": "stdout",
     "output_type": "stream",
     "text": [
      "ESN\n",
      "['Reference']\n",
      "/tmp/plots/Esperimenti/ArticularyWordRecognition/hps_esn.svg\n",
      "IRESN\n",
      "['Multiple SR Multiple IS vsr', 'Single SR vsr', 'Single SR', 'Multiple SR', 'Multiple SR Multiple IS', 'Multiple SR vsr']\n",
      "/tmp/plots/Esperimenti/ArticularyWordRecognition/hps_iresn.svg\n",
      "IIRESN\n",
      "['Multiple SR Multiple IS vsr', 'Single SR vsr', 'Single SR', 'Multiple SR', 'Multiple SR Multiple IS', 'Multiple SR vsr']\n",
      "/tmp/plots/Esperimenti/ArticularyWordRecognition/hps_iiresn.svg\n"
     ]
    }
   ],
   "source": [
    "hp = ['units', 'spectral radius', 'connectivity', 'G.S.R.', 'bias scaling', 'input scaling', 'leaky', 'learning', 'partition']\n",
    "for dataset in benchmarks.list_datasets():\n",
    "    for model in benchmarks.list_models():\n",
    "        plotter.hp_table_by_model(dataset, model, hp)"
   ],
   "metadata": {
    "collapsed": false,
    "pycharm": {
     "name": "#%%\n"
    }
   }
  }
 ],
 "metadata": {
  "kernelspec": {
   "name": "venv",
   "language": "python",
   "display_name": "venv"
  },
  "language_info": {
   "codemirror_mode": {
    "name": "ipython",
    "version": 2
   },
   "file_extension": ".py",
   "mimetype": "text/x-python",
   "name": "python",
   "nbconvert_exporter": "python",
   "pygments_lexer": "ipython2",
   "version": "2.7.6"
  }
 },
 "nbformat": 4,
 "nbformat_minor": 0
}