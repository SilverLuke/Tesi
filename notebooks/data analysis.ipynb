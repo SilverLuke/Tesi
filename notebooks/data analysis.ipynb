{
 "cells": [
  {
   "cell_type": "code",
   "execution_count": 1,
   "outputs": [],
   "source": [
    "%load_ext autoreload\n",
    "%autoreload 2"
   ],
   "metadata": {
    "collapsed": false,
    "pycharm": {
     "name": "#%%\n"
    }
   }
  },
  {
   "cell_type": "code",
   "execution_count": 38,
   "outputs": [],
   "source": [
    "import sys\n",
    "import os\n",
    "import json\n",
    "\n",
    "PROJECT_ROOT = os.path.abspath(os.getcwd() + os.sep + os.pardir)\n",
    "sys.path.insert(0, PROJECT_ROOT)\n",
    "\n",
    "from lib.utility import *\n",
    "\n",
    "IMAGE_ROOT = os.path.join(PROJECT_ROOT, \"images\")\n",
    "BENCHMARKS_DIR = \"benchmarks\""
   ],
   "metadata": {
    "collapsed": false,
    "pycharm": {
     "name": "#%%\n"
    }
   }
  },
  {
   "cell_type": "code",
   "execution_count": 62,
   "outputs": [
    {
     "name": "stdout",
     "output_type": "stream",
     "text": [
      "['Libras', 'CharacterTrajectories', 'ArticularyWordRecognition', 'SpokenArabicDigits']\n",
      "Elaborating  Libras  benchmarks...\n"
     ]
    },
    {
     "name": "stderr",
     "output_type": "stream",
     "text": [
      "/dati/luca/Uni-Luca/Tesi/tesi/lib/utility.py:385: UserWarning: Matplotlib is currently using module://matplotlib_inline.backend_inline, which is a non-GUI backend, so cannot show the figure.\n",
      "  fig.show()\n"
     ]
    },
    {
     "name": "stdout",
     "output_type": "stream",
     "text": [
      "Elaborating  CharacterTrajectories  benchmarks...\n"
     ]
    },
    {
     "name": "stderr",
     "output_type": "stream",
     "text": [
      "/dati/luca/Uni-Luca/Tesi/tesi/lib/utility.py:385: UserWarning: Matplotlib is currently using module://matplotlib_inline.backend_inline, which is a non-GUI backend, so cannot show the figure.\n",
      "  fig.show()\n"
     ]
    },
    {
     "name": "stdout",
     "output_type": "stream",
     "text": [
      "Elaborating  ArticularyWordRecognition  benchmarks...\n"
     ]
    },
    {
     "name": "stderr",
     "output_type": "stream",
     "text": [
      "/dati/luca/Uni-Luca/Tesi/tesi/lib/utility.py:385: UserWarning: Matplotlib is currently using module://matplotlib_inline.backend_inline, which is a non-GUI backend, so cannot show the figure.\n",
      "  fig.show()\n"
     ]
    },
    {
     "name": "stdout",
     "output_type": "stream",
     "text": [
      "Elaborating  SpokenArabicDigits  benchmarks...\n"
     ]
    },
    {
     "name": "stderr",
     "output_type": "stream",
     "text": [
      "/dati/luca/Uni-Luca/Tesi/tesi/lib/utility.py:385: UserWarning: Matplotlib is currently using module://matplotlib_inline.backend_inline, which is a non-GUI backend, so cannot show the figure.\n",
      "  fig.show()\n"
     ]
    }
   ],
   "source": [
    "datasets = os.listdir(IMAGE_ROOT)\n",
    "\n",
    "for dataset in datasets:\n",
    "    if not os.path.isdir(os.path.join(IMAGE_ROOT, dataset)):\n",
    "        datasets.remove(dataset)\n",
    "\n",
    "print(datasets)\n",
    "\n",
    "for dataset in datasets:\n",
    "    print(\"Elaborating \", dataset, \" benchmarks...\")\n",
    "    json_path = os.path.join(IMAGE_ROOT, dataset, BENCHMARKS_DIR, \"benchmarks.json\")\n",
    "\n",
    "    benchmarks = []\n",
    "    if os.path.exists(json_path):\n",
    "        with open(json_path, 'r') as jsonfile:\n",
    "            tmp = json.load(jsonfile)\n",
    "            for values in tmp:\n",
    "                benchmarks.append(Benchmark.fromJson(values))\n",
    "    else:\n",
    "        print(dataset, \" this dataset has not benchmarks.json, maybe has not been tested\")\n",
    "        continue\n",
    "\n",
    "    save_path = os.path.join(\"/tmp/plots\", dataset, BENCHMARKS_DIR)\n",
    "    if not os.path.exists(save_path):\n",
    "        os.makedirs(save_path)\n",
    "\n",
    "    #plot_histograms(benchmarks, dataset, path=save_path, show=False, skip_exp=[\"Best\", \"best\"])\n",
    "    plot_lines(benchmarks, dataset, path=save_path, show=False, skip_exp=[\"Best\", \"best\"])\n",
    "    plot_by_experiment(benchmarks, path=save_path, show=False)\n",
    "    plot_by_model(benchmarks, path=save_path, skip_exp=[\"Best\", \"best\"], show=False)\n",
    "    plot_summary_table(benchmarks, path=save_path, show=False)\n",
    "    plot_hp_table(benchmarks, path=save_path, show=True)\n"
   ],
   "metadata": {
    "collapsed": false,
    "pycharm": {
     "name": "#%%\n"
    }
   }
  }
 ],
 "metadata": {
  "kernelspec": {
   "name": "venv",
   "language": "python",
   "display_name": "venv"
  },
  "language_info": {
   "codemirror_mode": {
    "name": "ipython",
    "version": 2
   },
   "file_extension": ".py",
   "mimetype": "text/x-python",
   "name": "python",
   "nbconvert_exporter": "python",
   "pygments_lexer": "ipython2",
   "version": "2.7.6"
  }
 },
 "nbformat": 4,
 "nbformat_minor": 0
}