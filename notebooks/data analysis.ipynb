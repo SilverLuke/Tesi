{
 "cells": [
  {
   "cell_type": "code",
   "execution_count": 1,
   "outputs": [],
   "source": [
    "%load_ext autoreload\n",
    "%autoreload 2"
   ],
   "metadata": {
    "collapsed": false,
    "pycharm": {
     "name": "#%%\n"
    }
   }
  },
  {
   "cell_type": "code",
   "execution_count": 4,
   "outputs": [],
   "source": [
    "import sys\n",
    "import os\n",
    "\n",
    "PROJECT_ROOT = os.path.abspath(os.getcwd() + os.sep + os.pardir)\n",
    "sys.path.insert(0, PROJECT_ROOT)\n",
    "\n",
    "from lib.benchmarks import *\n",
    "\n",
    "IMAGE_ROOT = os.path.join(PROJECT_ROOT, \"plots\", \"benchmarks\")"
   ],
   "metadata": {
    "collapsed": false,
    "pycharm": {
     "name": "#%%\n"
    }
   }
  },
  {
   "cell_type": "code",
   "execution_count": 5,
   "outputs": [
    {
     "name": "stdout",
     "output_type": "stream",
     "text": [
      "['ArticularyWordRecognition', 'CharacterTrajectories', 'Libras', 'SpokenArabicDigits']\n",
      "['Best Hyperparameters', 'Fixed units']\n",
      "['Best', 'Units 50', 'Units 75', 'Units 112', 'Units 168', 'Units 253', 'Units 379']\n",
      "['ESN1', 'ESN2', 'ESN3', 'ESN4']\n"
     ]
    }
   ],
   "source": [
    "benchmarks = BenchmarksDB(load_path=os.path.join(IMAGE_ROOT, \"benchmarks.json\"), plot_path=\"/tmp/plots\")\n",
    "print(benchmarks.list_datasets())\n",
    "print(benchmarks.list_classes())\n",
    "print(benchmarks.list_experiments())\n",
    "print(benchmarks.list_models())"
   ],
   "metadata": {
    "collapsed": false,
    "pycharm": {
     "name": "#%%\n"
    }
   }
  },
  {
   "cell_type": "code",
   "execution_count": 6,
   "outputs": [
    {
     "name": "stdout",
     "output_type": "stream",
     "text": [
      "/tmp/plots/datasets_summary.svg\n",
      "/tmp/plots/ArticularyWordRecognition/best_hyperparameters/summary_plots.svg\n",
      "/tmp/plots/ArticularyWordRecognition/best_hyperparameters/summary_histograms.svg\n",
      "/tmp/plots/ArticularyWordRecognition/best_hyperparameters/best.svg\n",
      "/tmp/plots/ArticularyWordRecognition/best_hyperparameters/esn1.svg\n",
      "/tmp/plots/ArticularyWordRecognition/best_hyperparameters/esn2.svg\n",
      "/tmp/plots/ArticularyWordRecognition/best_hyperparameters/esn3.svg\n",
      "/tmp/plots/ArticularyWordRecognition/best_hyperparameters/esn4.svg\n",
      "/tmp/plots/ArticularyWordRecognition/best_hyperparameters/summary_table.svg\n",
      "/tmp/plots/ArticularyWordRecognition/best_hyperparameters/hp_table_by_best.svg\n",
      "/tmp/plots/ArticularyWordRecognition/best_hyperparameters/hp_table_by_esn1.svg\n",
      "/tmp/plots/ArticularyWordRecognition/best_hyperparameters/hp_table_by_esn2.svg\n",
      "/tmp/plots/ArticularyWordRecognition/best_hyperparameters/hp_table_by_esn3.svg\n",
      "/tmp/plots/ArticularyWordRecognition/best_hyperparameters/hp_table_by_esn4.svg\n",
      "/tmp/plots/ArticularyWordRecognition/fixed_units/summary_plots.svg\n",
      "/tmp/plots/ArticularyWordRecognition/fixed_units/summary_histograms.svg\n",
      "/tmp/plots/ArticularyWordRecognition/fixed_units/units_50.svg\n",
      "/tmp/plots/ArticularyWordRecognition/fixed_units/units_75.svg\n",
      "/tmp/plots/ArticularyWordRecognition/fixed_units/units_112.svg\n",
      "/tmp/plots/ArticularyWordRecognition/fixed_units/units_168.svg\n",
      "/tmp/plots/ArticularyWordRecognition/fixed_units/units_253.svg\n",
      "/tmp/plots/ArticularyWordRecognition/fixed_units/units_379.svg\n",
      "/tmp/plots/ArticularyWordRecognition/fixed_units/esn1.svg\n",
      "/tmp/plots/ArticularyWordRecognition/fixed_units/esn2.svg\n",
      "/tmp/plots/ArticularyWordRecognition/fixed_units/esn3.svg\n",
      "/tmp/plots/ArticularyWordRecognition/fixed_units/esn4.svg\n",
      "/tmp/plots/ArticularyWordRecognition/fixed_units/summary_table.svg\n",
      "/tmp/plots/ArticularyWordRecognition/fixed_units/hp_table_by_units_50.svg\n",
      "/tmp/plots/ArticularyWordRecognition/fixed_units/hp_table_by_units_75.svg\n",
      "/tmp/plots/ArticularyWordRecognition/fixed_units/hp_table_by_units_112.svg\n",
      "/tmp/plots/ArticularyWordRecognition/fixed_units/hp_table_by_units_168.svg\n",
      "/tmp/plots/ArticularyWordRecognition/fixed_units/hp_table_by_units_253.svg\n",
      "/tmp/plots/ArticularyWordRecognition/fixed_units/hp_table_by_units_379.svg\n",
      "/tmp/plots/ArticularyWordRecognition/fixed_units/hp_table_by_esn1.svg\n",
      "/tmp/plots/ArticularyWordRecognition/fixed_units/hp_table_by_esn2.svg\n",
      "/tmp/plots/ArticularyWordRecognition/fixed_units/hp_table_by_esn3.svg\n",
      "/tmp/plots/ArticularyWordRecognition/fixed_units/hp_table_by_esn4.svg\n",
      "/tmp/plots/CharacterTrajectories/best_hyperparameters/summary_plots.svg\n",
      "/tmp/plots/CharacterTrajectories/best_hyperparameters/summary_histograms.svg\n",
      "/tmp/plots/CharacterTrajectories/best_hyperparameters/best.svg\n",
      "/tmp/plots/CharacterTrajectories/best_hyperparameters/esn1.svg\n",
      "/tmp/plots/CharacterTrajectories/best_hyperparameters/esn2.svg\n",
      "/tmp/plots/CharacterTrajectories/best_hyperparameters/esn3.svg\n",
      "/tmp/plots/CharacterTrajectories/best_hyperparameters/esn4.svg\n",
      "/tmp/plots/CharacterTrajectories/best_hyperparameters/summary_table.svg\n",
      "/tmp/plots/CharacterTrajectories/best_hyperparameters/hp_table_by_best.svg\n",
      "/tmp/plots/CharacterTrajectories/best_hyperparameters/hp_table_by_esn1.svg\n",
      "/tmp/plots/CharacterTrajectories/best_hyperparameters/hp_table_by_esn2.svg\n",
      "/tmp/plots/CharacterTrajectories/best_hyperparameters/hp_table_by_esn3.svg\n",
      "/tmp/plots/CharacterTrajectories/best_hyperparameters/hp_table_by_esn4.svg\n",
      "/tmp/plots/CharacterTrajectories/fixed_units/summary_plots.svg\n",
      "/tmp/plots/CharacterTrajectories/fixed_units/summary_histograms.svg\n",
      "/tmp/plots/CharacterTrajectories/fixed_units/units_50.svg\n",
      "/tmp/plots/CharacterTrajectories/fixed_units/units_75.svg\n",
      "/tmp/plots/CharacterTrajectories/fixed_units/units_112.svg\n",
      "/tmp/plots/CharacterTrajectories/fixed_units/units_168.svg\n",
      "/tmp/plots/CharacterTrajectories/fixed_units/units_253.svg\n",
      "/tmp/plots/CharacterTrajectories/fixed_units/units_379.svg\n",
      "/tmp/plots/CharacterTrajectories/fixed_units/esn1.svg\n",
      "/tmp/plots/CharacterTrajectories/fixed_units/esn2.svg\n",
      "/tmp/plots/CharacterTrajectories/fixed_units/esn3.svg\n",
      "/tmp/plots/CharacterTrajectories/fixed_units/esn4.svg\n",
      "/tmp/plots/CharacterTrajectories/fixed_units/summary_table.svg\n",
      "/tmp/plots/CharacterTrajectories/fixed_units/hp_table_by_units_50.svg\n",
      "/tmp/plots/CharacterTrajectories/fixed_units/hp_table_by_units_75.svg\n",
      "/tmp/plots/CharacterTrajectories/fixed_units/hp_table_by_units_112.svg\n",
      "/tmp/plots/CharacterTrajectories/fixed_units/hp_table_by_units_168.svg\n",
      "/tmp/plots/CharacterTrajectories/fixed_units/hp_table_by_units_253.svg\n",
      "/tmp/plots/CharacterTrajectories/fixed_units/hp_table_by_units_379.svg\n",
      "/tmp/plots/CharacterTrajectories/fixed_units/hp_table_by_esn1.svg\n",
      "/tmp/plots/CharacterTrajectories/fixed_units/hp_table_by_esn2.svg\n",
      "/tmp/plots/CharacterTrajectories/fixed_units/hp_table_by_esn3.svg\n",
      "/tmp/plots/CharacterTrajectories/fixed_units/hp_table_by_esn4.svg\n",
      "/tmp/plots/Libras/best_hyperparameters/summary_plots.svg\n",
      "/tmp/plots/Libras/best_hyperparameters/summary_histograms.svg\n",
      "/tmp/plots/Libras/best_hyperparameters/best.svg\n",
      "/tmp/plots/Libras/best_hyperparameters/esn1.svg\n",
      "/tmp/plots/Libras/best_hyperparameters/esn2.svg\n",
      "/tmp/plots/Libras/best_hyperparameters/esn3.svg\n",
      "/tmp/plots/Libras/best_hyperparameters/esn4.svg\n",
      "/tmp/plots/Libras/best_hyperparameters/summary_table.svg\n",
      "/tmp/plots/Libras/best_hyperparameters/hp_table_by_best.svg\n",
      "/tmp/plots/Libras/best_hyperparameters/hp_table_by_esn1.svg\n",
      "/tmp/plots/Libras/best_hyperparameters/hp_table_by_esn2.svg\n",
      "/tmp/plots/Libras/best_hyperparameters/hp_table_by_esn3.svg\n",
      "/tmp/plots/Libras/best_hyperparameters/hp_table_by_esn4.svg\n",
      "/tmp/plots/Libras/fixed_units/summary_plots.svg\n",
      "/tmp/plots/Libras/fixed_units/summary_histograms.svg\n",
      "/tmp/plots/Libras/fixed_units/units_50.svg\n",
      "/tmp/plots/Libras/fixed_units/units_75.svg\n",
      "/tmp/plots/Libras/fixed_units/units_112.svg\n",
      "/tmp/plots/Libras/fixed_units/units_168.svg\n",
      "/tmp/plots/Libras/fixed_units/units_253.svg\n",
      "/tmp/plots/Libras/fixed_units/units_379.svg\n",
      "/tmp/plots/Libras/fixed_units/esn1.svg\n",
      "/tmp/plots/Libras/fixed_units/esn2.svg\n",
      "/tmp/plots/Libras/fixed_units/esn3.svg\n",
      "/tmp/plots/Libras/fixed_units/esn4.svg\n",
      "/tmp/plots/Libras/fixed_units/summary_table.svg\n",
      "/tmp/plots/Libras/fixed_units/hp_table_by_units_50.svg\n",
      "/tmp/plots/Libras/fixed_units/hp_table_by_units_75.svg\n",
      "/tmp/plots/Libras/fixed_units/hp_table_by_units_112.svg\n",
      "/tmp/plots/Libras/fixed_units/hp_table_by_units_168.svg\n",
      "/tmp/plots/Libras/fixed_units/hp_table_by_units_253.svg\n",
      "/tmp/plots/Libras/fixed_units/hp_table_by_units_379.svg\n",
      "/tmp/plots/Libras/fixed_units/hp_table_by_esn1.svg\n",
      "/tmp/plots/Libras/fixed_units/hp_table_by_esn2.svg\n",
      "/tmp/plots/Libras/fixed_units/hp_table_by_esn3.svg\n",
      "/tmp/plots/Libras/fixed_units/hp_table_by_esn4.svg\n",
      "/tmp/plots/SpokenArabicDigits/best_hyperparameters/summary_plots.svg\n",
      "/tmp/plots/SpokenArabicDigits/best_hyperparameters/summary_histograms.svg\n",
      "/tmp/plots/SpokenArabicDigits/best_hyperparameters/best.svg\n",
      "/tmp/plots/SpokenArabicDigits/best_hyperparameters/esn1.svg\n",
      "/tmp/plots/SpokenArabicDigits/best_hyperparameters/esn2.svg\n",
      "/tmp/plots/SpokenArabicDigits/best_hyperparameters/esn3.svg\n",
      "/tmp/plots/SpokenArabicDigits/best_hyperparameters/esn4.svg\n",
      "/tmp/plots/SpokenArabicDigits/best_hyperparameters/summary_table.svg\n",
      "/tmp/plots/SpokenArabicDigits/best_hyperparameters/hp_table_by_best.svg\n",
      "/tmp/plots/SpokenArabicDigits/best_hyperparameters/hp_table_by_esn1.svg\n",
      "/tmp/plots/SpokenArabicDigits/best_hyperparameters/hp_table_by_esn2.svg\n",
      "/tmp/plots/SpokenArabicDigits/best_hyperparameters/hp_table_by_esn3.svg\n",
      "/tmp/plots/SpokenArabicDigits/best_hyperparameters/hp_table_by_esn4.svg\n",
      "/tmp/plots/SpokenArabicDigits/fixed_units/summary_plots.svg\n",
      "/tmp/plots/SpokenArabicDigits/fixed_units/summary_histograms.svg\n",
      "/tmp/plots/SpokenArabicDigits/fixed_units/units_50.svg\n",
      "/tmp/plots/SpokenArabicDigits/fixed_units/units_75.svg\n",
      "/tmp/plots/SpokenArabicDigits/fixed_units/units_112.svg\n",
      "/tmp/plots/SpokenArabicDigits/fixed_units/units_168.svg\n",
      "/tmp/plots/SpokenArabicDigits/fixed_units/units_253.svg\n",
      "/tmp/plots/SpokenArabicDigits/fixed_units/units_379.svg\n",
      "/tmp/plots/SpokenArabicDigits/fixed_units/esn1.svg\n",
      "/tmp/plots/SpokenArabicDigits/fixed_units/esn2.svg\n",
      "/tmp/plots/SpokenArabicDigits/fixed_units/esn3.svg\n",
      "/tmp/plots/SpokenArabicDigits/fixed_units/esn4.svg\n",
      "/tmp/plots/SpokenArabicDigits/fixed_units/summary_table.svg\n",
      "/tmp/plots/SpokenArabicDigits/fixed_units/hp_table_by_units_50.svg\n",
      "/tmp/plots/SpokenArabicDigits/fixed_units/hp_table_by_units_75.svg\n",
      "/tmp/plots/SpokenArabicDigits/fixed_units/hp_table_by_units_112.svg\n",
      "/tmp/plots/SpokenArabicDigits/fixed_units/hp_table_by_units_168.svg\n",
      "/tmp/plots/SpokenArabicDigits/fixed_units/hp_table_by_units_253.svg\n",
      "/tmp/plots/SpokenArabicDigits/fixed_units/hp_table_by_units_379.svg\n",
      "/tmp/plots/SpokenArabicDigits/fixed_units/hp_table_by_esn1.svg\n",
      "/tmp/plots/SpokenArabicDigits/fixed_units/hp_table_by_esn2.svg\n",
      "/tmp/plots/SpokenArabicDigits/fixed_units/hp_table_by_esn3.svg\n",
      "/tmp/plots/SpokenArabicDigits/fixed_units/hp_table_by_esn4.svg\n"
     ]
    }
   ],
   "source": [
    "hp = ['units', 'bias scaling', 'input scaling', 'connectivity 0']\n",
    "\n",
    "benchmarks.plot_datasets_summary(show=False)\n",
    "for dataset in benchmarks.list_datasets():\n",
    "    for class_name in benchmarks.list_classes():\n",
    "        benchmarks.plot_lines_by_key(dataset, class_name, show=False)\n",
    "        benchmarks.plot_summary_histogram(dataset, class_name, show=False)\n",
    "\n",
    "        benchmarks.plot_by_experiment(dataset, class_name, show=False)\n",
    "        benchmarks.plot_by_model(dataset, class_name, show=False)\n",
    "\n",
    "        benchmarks.plot_summary_table(dataset, class_name, show=False)\n",
    "\n",
    "        for experiment in benchmarks.list_experiments():\n",
    "            benchmarks.plot_hp_table_by_experiment(dataset, class_name, experiment, hp, show=False)\n",
    "        for model in benchmarks.list_models():\n",
    "            benchmarks.plot_hp_table_by_model(dataset, class_name, model, hp, show=False)\n"
   ],
   "metadata": {
    "collapsed": false,
    "pycharm": {
     "name": "#%%\n"
    }
   }
  }
 ],
 "metadata": {
  "kernelspec": {
   "name": "venv",
   "language": "python",
   "display_name": "venv"
  },
  "language_info": {
   "codemirror_mode": {
    "name": "ipython",
    "version": 2
   },
   "file_extension": ".py",
   "mimetype": "text/x-python",
   "name": "python",
   "nbconvert_exporter": "python",
   "pygments_lexer": "ipython2",
   "version": "2.7.6"
  }
 },
 "nbformat": 4,
 "nbformat_minor": 0
}