{
 "cells": [
  {
   "cell_type": "code",
   "execution_count": 20,
   "outputs": [
    {
     "name": "stdout",
     "output_type": "stream",
     "text": [
      "The autoreload extension is already loaded. To reload it, use:\n",
      "  %reload_ext autoreload\n"
     ]
    }
   ],
   "source": [
    "%load_ext autoreload\n",
    "%autoreload 2"
   ],
   "metadata": {
    "collapsed": false,
    "pycharm": {
     "name": "#%%\n"
    }
   }
  },
  {
   "cell_type": "code",
   "execution_count": 21,
   "outputs": [],
   "source": [
    "import sys\n",
    "import os\n",
    "\n",
    "PROJECT_ROOT = os.path.abspath(os.getcwd() + os.sep + os.pardir)\n",
    "sys.path.insert(0, PROJECT_ROOT)\n",
    "\n",
    "from benchmarks import *\n",
    "\n",
    "IMAGE_ROOT = os.path.join(PROJECT_ROOT, \"plots\", \"benchmarks\")"
   ],
   "metadata": {
    "collapsed": false,
    "pycharm": {
     "name": "#%%\n"
    }
   }
  },
  {
   "cell_type": "code",
   "execution_count": 22,
   "outputs": [
    {
     "name": "stdout",
     "output_type": "stream",
     "text": [
      "['ArticularyWordRecognition', 'CharacterTrajectories', 'Libras', 'SpokenArabicDigits']\n",
      "['Multiple S.R. 100 Trials', 'Multiple S.R. 200 Trials', 'Multiple S.R. 500 Trials', 'Single S.R. 100 Trials']\n",
      "['Units', 'Units 50', 'Units 75', 'Units 100', 'Units 150', 'Units 250']\n",
      "['ESN', 'IRESN', 'IIRESN', 'IIRESNvsr']\n"
     ]
    }
   ],
   "source": [
    "MAX_EPOCHS = 500\n",
    "MAX_TRIALS = 100\n",
    "DESC = \"edited\"\n",
    "TUNER = \"RandomSearch\"  # \"Hyperband\" or \"BayesianOptimization\" or \"RandomSearch\" or \"origin\"\n",
    "\n",
    "TUNER_STRING = TUNER + \".\" + str(MAX_EPOCHS) + \"me\" + str(MAX_TRIALS) + \"mt.\" + DESC\n",
    "benchmarks = BenchmarksDB(load_path=os.path.join(IMAGE_ROOT, \"benchmarks.\" + TUNER_STRING + \".json\"), plot_path=\"/tmp/plots/\" + TUNER_STRING)\n",
    "print(benchmarks.list_datasets())\n",
    "print(benchmarks.list_classes())\n",
    "print(benchmarks.list_experiments())\n",
    "print(benchmarks.list_models())"
   ],
   "metadata": {
    "collapsed": false,
    "pycharm": {
     "name": "#%%\n"
    }
   }
  },
  {
   "cell_type": "code",
   "execution_count": 23,
   "outputs": [
    {
     "name": "stdout",
     "output_type": "stream",
     "text": [
      "/tmp/plots/RandomSearch.500me100mt.edited/summary_table.svg\n"
     ]
    },
    {
     "name": "stderr",
     "output_type": "stream",
     "text": [
      "/dati/luca/Uni-Luca/Tesi/progetto/notebooks/benchmarks.py:235: UserWarning: Matplotlib is currently using module://matplotlib_inline.backend_inline, which is a non-GUI backend, so cannot show the figure.\n",
      "  fig.show()\n"
     ]
    },
    {
     "data": {
      "text/plain": "True"
     },
     "execution_count": 23,
     "metadata": {},
     "output_type": "execute_result"
    }
   ],
   "source": [
    "benchmarks.plot_global_summary_table()"
   ],
   "metadata": {
    "collapsed": false,
    "pycharm": {
     "name": "#%%\n"
    }
   }
  },
  {
   "cell_type": "code",
   "execution_count": 24,
   "outputs": [
    {
     "name": "stdout",
     "output_type": "stream",
     "text": [
      "/tmp/plots/RandomSearch.500me100mt.edited/datasets_summary_multiple_s.r._100_trials_units_50.svg\n",
      "/tmp/plots/RandomSearch.500me100mt.edited/datasets_summary_multiple_s.r._100_trials_units_75.svg\n",
      "/tmp/plots/RandomSearch.500me100mt.edited/ArticularyWordRecognition/multiple_s.r._100_trials/summary_plots.svg\n",
      "/tmp/plots/RandomSearch.500me100mt.edited/ArticularyWordRecognition/multiple_s.r._100_trials/summary_histograms.svg\n",
      "/tmp/plots/RandomSearch.500me100mt.edited/ArticularyWordRecognition/multiple_s.r._100_trials/summary_table.svg\n",
      "/tmp/plots/RandomSearch.500me100mt.edited/ArticularyWordRecognition/multiple_s.r._100_trials/hp_table_by_units_50.svg\n",
      "/tmp/plots/RandomSearch.500me100mt.edited/ArticularyWordRecognition/multiple_s.r._100_trials/hp_table_by_units_75.svg\n",
      "/tmp/plots/RandomSearch.500me100mt.edited/ArticularyWordRecognition/multiple_s.r._100_trials/hp_table_by_units_100.svg\n",
      "/tmp/plots/RandomSearch.500me100mt.edited/ArticularyWordRecognition/multiple_s.r._100_trials/hp_table_by_units_150.svg\n",
      "/tmp/plots/RandomSearch.500me100mt.edited/ArticularyWordRecognition/multiple_s.r._100_trials/hp_table_by_units_250.svg\n",
      "/tmp/plots/RandomSearch.500me100mt.edited/ArticularyWordRecognition/multiple_s.r._100_trials/hp_table_by_esn.svg\n",
      "/tmp/plots/RandomSearch.500me100mt.edited/ArticularyWordRecognition/multiple_s.r._100_trials/hp_table_by_iresn.svg\n",
      "/tmp/plots/RandomSearch.500me100mt.edited/ArticularyWordRecognition/multiple_s.r._100_trials/hp_table_by_iiresn.svg\n",
      "/tmp/plots/RandomSearch.500me100mt.edited/ArticularyWordRecognition/multiple_s.r._100_trials/hp_table_by_iiresnvsr.svg\n",
      "Benchmarks not found. ArticularyWordRecognition Multiple S.R. 200 Trials\n",
      "Benchmarks not found. ArticularyWordRecognition Multiple S.R. 500 Trials\n",
      "/tmp/plots/RandomSearch.500me100mt.edited/ArticularyWordRecognition/single_s.r._100_trials/summary_plots.svg\n",
      "/tmp/plots/RandomSearch.500me100mt.edited/ArticularyWordRecognition/single_s.r._100_trials/summary_histograms.svg\n",
      "/tmp/plots/RandomSearch.500me100mt.edited/ArticularyWordRecognition/single_s.r._100_trials/summary_table.svg\n",
      "/tmp/plots/RandomSearch.500me100mt.edited/ArticularyWordRecognition/single_s.r._100_trials/hp_table_by_units_50.svg\n",
      "/tmp/plots/RandomSearch.500me100mt.edited/ArticularyWordRecognition/single_s.r._100_trials/hp_table_by_units_75.svg\n",
      "/tmp/plots/RandomSearch.500me100mt.edited/ArticularyWordRecognition/single_s.r._100_trials/hp_table_by_units_100.svg\n",
      "/tmp/plots/RandomSearch.500me100mt.edited/ArticularyWordRecognition/single_s.r._100_trials/hp_table_by_units_150.svg\n",
      "/tmp/plots/RandomSearch.500me100mt.edited/ArticularyWordRecognition/single_s.r._100_trials/hp_table_by_units_250.svg\n",
      "/tmp/plots/RandomSearch.500me100mt.edited/ArticularyWordRecognition/single_s.r._100_trials/hp_table_by_esn.svg\n",
      "/tmp/plots/RandomSearch.500me100mt.edited/ArticularyWordRecognition/single_s.r._100_trials/hp_table_by_iresn.svg\n",
      "/tmp/plots/RandomSearch.500me100mt.edited/ArticularyWordRecognition/single_s.r._100_trials/hp_table_by_iiresn.svg\n",
      "/tmp/plots/RandomSearch.500me100mt.edited/ArticularyWordRecognition/single_s.r._100_trials/hp_table_by_iiresnvsr.svg\n",
      "/tmp/plots/RandomSearch.500me100mt.edited/CharacterTrajectories/multiple_s.r._100_trials/summary_plots.svg\n",
      "/tmp/plots/RandomSearch.500me100mt.edited/CharacterTrajectories/multiple_s.r._100_trials/summary_histograms.svg\n",
      "/tmp/plots/RandomSearch.500me100mt.edited/CharacterTrajectories/multiple_s.r._100_trials/summary_table.svg\n",
      "/tmp/plots/RandomSearch.500me100mt.edited/CharacterTrajectories/multiple_s.r._100_trials/hp_table_by_units_50.svg\n",
      "/tmp/plots/RandomSearch.500me100mt.edited/CharacterTrajectories/multiple_s.r._100_trials/hp_table_by_units_75.svg\n",
      "/tmp/plots/RandomSearch.500me100mt.edited/CharacterTrajectories/multiple_s.r._100_trials/hp_table_by_units_100.svg\n",
      "/tmp/plots/RandomSearch.500me100mt.edited/CharacterTrajectories/multiple_s.r._100_trials/hp_table_by_units_150.svg\n",
      "/tmp/plots/RandomSearch.500me100mt.edited/CharacterTrajectories/multiple_s.r._100_trials/hp_table_by_units_250.svg\n",
      "/tmp/plots/RandomSearch.500me100mt.edited/CharacterTrajectories/multiple_s.r._100_trials/hp_table_by_esn.svg\n",
      "/tmp/plots/RandomSearch.500me100mt.edited/CharacterTrajectories/multiple_s.r._100_trials/hp_table_by_iresn.svg\n",
      "/tmp/plots/RandomSearch.500me100mt.edited/CharacterTrajectories/multiple_s.r._100_trials/hp_table_by_iiresn.svg\n",
      "/tmp/plots/RandomSearch.500me100mt.edited/CharacterTrajectories/multiple_s.r._100_trials/hp_table_by_iiresnvsr.svg\n",
      "Benchmarks not found. CharacterTrajectories Multiple S.R. 200 Trials\n",
      "Benchmarks not found. CharacterTrajectories Multiple S.R. 500 Trials\n",
      "/tmp/plots/RandomSearch.500me100mt.edited/CharacterTrajectories/single_s.r._100_trials/summary_plots.svg\n",
      "/tmp/plots/RandomSearch.500me100mt.edited/CharacterTrajectories/single_s.r._100_trials/summary_histograms.svg\n",
      "/tmp/plots/RandomSearch.500me100mt.edited/CharacterTrajectories/single_s.r._100_trials/summary_table.svg\n",
      "/tmp/plots/RandomSearch.500me100mt.edited/CharacterTrajectories/single_s.r._100_trials/hp_table_by_units_50.svg\n",
      "/tmp/plots/RandomSearch.500me100mt.edited/CharacterTrajectories/single_s.r._100_trials/hp_table_by_units_75.svg\n",
      "/tmp/plots/RandomSearch.500me100mt.edited/CharacterTrajectories/single_s.r._100_trials/hp_table_by_units_100.svg\n",
      "/tmp/plots/RandomSearch.500me100mt.edited/CharacterTrajectories/single_s.r._100_trials/hp_table_by_units_150.svg\n",
      "/tmp/plots/RandomSearch.500me100mt.edited/CharacterTrajectories/single_s.r._100_trials/hp_table_by_units_250.svg\n",
      "/tmp/plots/RandomSearch.500me100mt.edited/CharacterTrajectories/single_s.r._100_trials/hp_table_by_esn.svg\n",
      "/tmp/plots/RandomSearch.500me100mt.edited/CharacterTrajectories/single_s.r._100_trials/hp_table_by_iresn.svg\n",
      "/tmp/plots/RandomSearch.500me100mt.edited/CharacterTrajectories/single_s.r._100_trials/hp_table_by_iiresn.svg\n",
      "/tmp/plots/RandomSearch.500me100mt.edited/CharacterTrajectories/single_s.r._100_trials/hp_table_by_iiresnvsr.svg\n",
      "/tmp/plots/RandomSearch.500me100mt.edited/Libras/multiple_s.r._100_trials/summary_plots.svg\n",
      "/tmp/plots/RandomSearch.500me100mt.edited/Libras/multiple_s.r._100_trials/summary_histograms.svg\n",
      "/tmp/plots/RandomSearch.500me100mt.edited/Libras/multiple_s.r._100_trials/summary_table.svg\n",
      "/tmp/plots/RandomSearch.500me100mt.edited/Libras/multiple_s.r._100_trials/hp_table_by_units_50.svg\n",
      "/tmp/plots/RandomSearch.500me100mt.edited/Libras/multiple_s.r._100_trials/hp_table_by_units_75.svg\n",
      "/tmp/plots/RandomSearch.500me100mt.edited/Libras/multiple_s.r._100_trials/hp_table_by_units_100.svg\n",
      "/tmp/plots/RandomSearch.500me100mt.edited/Libras/multiple_s.r._100_trials/hp_table_by_units_150.svg\n",
      "/tmp/plots/RandomSearch.500me100mt.edited/Libras/multiple_s.r._100_trials/hp_table_by_units_250.svg\n",
      "/tmp/plots/RandomSearch.500me100mt.edited/Libras/multiple_s.r._100_trials/hp_table_by_esn.svg\n",
      "/tmp/plots/RandomSearch.500me100mt.edited/Libras/multiple_s.r._100_trials/hp_table_by_iresn.svg\n",
      "/tmp/plots/RandomSearch.500me100mt.edited/Libras/multiple_s.r._100_trials/hp_table_by_iiresn.svg\n",
      "/tmp/plots/RandomSearch.500me100mt.edited/Libras/multiple_s.r._100_trials/hp_table_by_iiresnvsr.svg\n",
      "Benchmarks not found. Libras Multiple S.R. 200 Trials\n",
      "Benchmarks not found. Libras Multiple S.R. 500 Trials\n",
      "/tmp/plots/RandomSearch.500me100mt.edited/Libras/single_s.r._100_trials/summary_plots.svg\n",
      "/tmp/plots/RandomSearch.500me100mt.edited/Libras/single_s.r._100_trials/summary_histograms.svg\n",
      "/tmp/plots/RandomSearch.500me100mt.edited/Libras/single_s.r._100_trials/summary_table.svg\n",
      "/tmp/plots/RandomSearch.500me100mt.edited/Libras/single_s.r._100_trials/hp_table_by_units_50.svg\n",
      "/tmp/plots/RandomSearch.500me100mt.edited/Libras/single_s.r._100_trials/hp_table_by_units_75.svg\n",
      "/tmp/plots/RandomSearch.500me100mt.edited/Libras/single_s.r._100_trials/hp_table_by_units_100.svg\n",
      "/tmp/plots/RandomSearch.500me100mt.edited/Libras/single_s.r._100_trials/hp_table_by_units_150.svg\n",
      "/tmp/plots/RandomSearch.500me100mt.edited/Libras/single_s.r._100_trials/hp_table_by_units_250.svg\n",
      "/tmp/plots/RandomSearch.500me100mt.edited/Libras/single_s.r._100_trials/hp_table_by_esn.svg\n",
      "/tmp/plots/RandomSearch.500me100mt.edited/Libras/single_s.r._100_trials/hp_table_by_iresn.svg\n",
      "/tmp/plots/RandomSearch.500me100mt.edited/Libras/single_s.r._100_trials/hp_table_by_iiresn.svg\n",
      "/tmp/plots/RandomSearch.500me100mt.edited/Libras/single_s.r._100_trials/hp_table_by_iiresnvsr.svg\n",
      "/tmp/plots/RandomSearch.500me100mt.edited/SpokenArabicDigits/multiple_s.r._100_trials/summary_plots.svg\n",
      "/tmp/plots/RandomSearch.500me100mt.edited/SpokenArabicDigits/multiple_s.r._100_trials/summary_histograms.svg\n",
      "/tmp/plots/RandomSearch.500me100mt.edited/SpokenArabicDigits/multiple_s.r._100_trials/summary_table.svg\n",
      "/tmp/plots/RandomSearch.500me100mt.edited/SpokenArabicDigits/multiple_s.r._100_trials/hp_table_by_units_50.svg\n",
      "/tmp/plots/RandomSearch.500me100mt.edited/SpokenArabicDigits/multiple_s.r._100_trials/hp_table_by_units_75.svg\n",
      "/tmp/plots/RandomSearch.500me100mt.edited/SpokenArabicDigits/multiple_s.r._100_trials/hp_table_by_esn.svg\n",
      "/tmp/plots/RandomSearch.500me100mt.edited/SpokenArabicDigits/multiple_s.r._100_trials/hp_table_by_iresn.svg\n",
      "/tmp/plots/RandomSearch.500me100mt.edited/SpokenArabicDigits/multiple_s.r._100_trials/hp_table_by_iiresn.svg\n",
      "/tmp/plots/RandomSearch.500me100mt.edited/SpokenArabicDigits/multiple_s.r._100_trials/hp_table_by_iiresnvsr.svg\n",
      "/tmp/plots/RandomSearch.500me100mt.edited/SpokenArabicDigits/multiple_s.r._200_trials/summary_plots.svg\n",
      "/tmp/plots/RandomSearch.500me100mt.edited/SpokenArabicDigits/multiple_s.r._200_trials/summary_histograms.svg\n",
      "/tmp/plots/RandomSearch.500me100mt.edited/SpokenArabicDigits/multiple_s.r._200_trials/summary_table.svg\n",
      "/tmp/plots/RandomSearch.500me100mt.edited/SpokenArabicDigits/multiple_s.r._200_trials/hp_table_by_units_50.svg\n",
      "/tmp/plots/RandomSearch.500me100mt.edited/SpokenArabicDigits/multiple_s.r._200_trials/hp_table_by_esn.svg\n",
      "/tmp/plots/RandomSearch.500me100mt.edited/SpokenArabicDigits/multiple_s.r._200_trials/hp_table_by_iresn.svg\n",
      "/tmp/plots/RandomSearch.500me100mt.edited/SpokenArabicDigits/multiple_s.r._200_trials/hp_table_by_iiresn.svg\n",
      "/tmp/plots/RandomSearch.500me100mt.edited/SpokenArabicDigits/multiple_s.r._200_trials/hp_table_by_iiresnvsr.svg\n",
      "/tmp/plots/RandomSearch.500me100mt.edited/SpokenArabicDigits/multiple_s.r._500_trials/summary_plots.svg\n",
      "/tmp/plots/RandomSearch.500me100mt.edited/SpokenArabicDigits/multiple_s.r._500_trials/summary_histograms.svg\n",
      "/tmp/plots/RandomSearch.500me100mt.edited/SpokenArabicDigits/multiple_s.r._500_trials/summary_table.svg\n",
      "/tmp/plots/RandomSearch.500me100mt.edited/SpokenArabicDigits/multiple_s.r._500_trials/hp_table_by_units.svg\n",
      "/tmp/plots/RandomSearch.500me100mt.edited/SpokenArabicDigits/multiple_s.r._500_trials/hp_table_by_esn.svg\n"
     ]
    },
    {
     "ename": "ZeroDivisionError",
     "evalue": "float division by zero",
     "output_type": "error",
     "traceback": [
      "\u001B[0;31m---------------------------------------------------------------------------\u001B[0m",
      "\u001B[0;31mZeroDivisionError\u001B[0m                         Traceback (most recent call last)",
      "File \u001B[0;32m<timed exec>:22\u001B[0m, in \u001B[0;36m<module>\u001B[0;34m\u001B[0m\n",
      "File \u001B[0;32m/dati/luca/Uni-Luca/Tesi/progetto/notebooks/benchmarks.py:512\u001B[0m, in \u001B[0;36mBenchmarksDB.plot_hp_table_by_model\u001B[0;34m(self, dataset_name, class_name, model, keys, path, show)\u001B[0m\n\u001B[1;32m    509\u001B[0m             \u001B[38;5;28mprint\u001B[39m(\u001B[38;5;28mtype\u001B[39m(value))\n\u001B[1;32m    510\u001B[0m     body\u001B[38;5;241m.\u001B[39mappend(row)\n\u001B[0;32m--> 512\u001B[0m fig \u001B[38;5;241m=\u001B[39m \u001B[43mplot_table\u001B[49m\u001B[43m(\u001B[49m\u001B[38;5;124;43m'\u001B[39;49m\u001B[38;5;124;43mDataset: \u001B[39;49m\u001B[38;5;124;43m\"\u001B[39;49m\u001B[38;5;124;43m'\u001B[39;49m\u001B[43m \u001B[49m\u001B[38;5;241;43m+\u001B[39;49m\u001B[43m \u001B[49m\u001B[43mdataset_name\u001B[49m\u001B[43m \u001B[49m\u001B[38;5;241;43m+\u001B[39;49m\u001B[43m \u001B[49m\u001B[38;5;124;43m'\u001B[39;49m\u001B[38;5;124;43m\"\u001B[39;49m\u001B[38;5;130;43;01m\\n\u001B[39;49;00m\u001B[38;5;124;43m'\u001B[39;49m\u001B[43m \u001B[49m\u001B[38;5;241;43m+\u001B[39;49m\n\u001B[1;32m    513\u001B[0m \u001B[43m                 \u001B[49m\u001B[38;5;124;43m'\u001B[39;49m\u001B[38;5;124;43mExp. Class: \u001B[39;49m\u001B[38;5;124;43m\"\u001B[39;49m\u001B[38;5;124;43m'\u001B[39;49m\u001B[43m \u001B[49m\u001B[38;5;241;43m+\u001B[39;49m\u001B[43m \u001B[49m\u001B[43mclass_name\u001B[49m\u001B[43m \u001B[49m\u001B[38;5;241;43m+\u001B[39;49m\u001B[43m \u001B[49m\u001B[38;5;124;43m'\u001B[39;49m\u001B[38;5;124;43m\"\u001B[39;49m\u001B[38;5;130;43;01m\\n\u001B[39;49;00m\u001B[38;5;124;43m'\u001B[39;49m\u001B[43m \u001B[49m\u001B[38;5;241;43m+\u001B[39;49m\n\u001B[1;32m    514\u001B[0m \u001B[43m                 \u001B[49m\u001B[38;5;124;43m'\u001B[39;49m\u001B[38;5;124;43mModel: \u001B[39;49m\u001B[38;5;124;43m\"\u001B[39;49m\u001B[38;5;124;43m'\u001B[39;49m\u001B[43m \u001B[49m\u001B[38;5;241;43m+\u001B[39;49m\u001B[43m \u001B[49m\u001B[43mmodel\u001B[49m\u001B[43m \u001B[49m\u001B[38;5;241;43m+\u001B[39;49m\u001B[43m \u001B[49m\u001B[38;5;124;43m'\u001B[39;49m\u001B[38;5;124;43m\"\u001B[39;49m\u001B[38;5;124;43m'\u001B[39;49m\u001B[43m,\u001B[49m\u001B[43m \u001B[49m\u001B[43mhp_keys\u001B[49m\u001B[43m,\u001B[49m\u001B[43m \u001B[49m\u001B[43mexperiments\u001B[49m\u001B[43m,\u001B[49m\u001B[43m \u001B[49m\u001B[43mbody\u001B[49m\u001B[43m)\u001B[49m\n\u001B[1;32m    515\u001B[0m \u001B[38;5;28mself\u001B[39m\u001B[38;5;241m.\u001B[39m_save_and_show(fig, path, dataset_name, class_name, \u001B[38;5;124m\"\u001B[39m\u001B[38;5;124mhp_table_by_\u001B[39m\u001B[38;5;124m\"\u001B[39m \u001B[38;5;241m+\u001B[39m model, show)\n",
      "File \u001B[0;32m/dati/luca/Uni-Luca/Tesi/progetto/notebooks/benchmarks.py:786\u001B[0m, in \u001B[0;36mplot_table\u001B[0;34m(title, x_labels, y_labels, body, best_worse, show_x)\u001B[0m\n\u001B[1;32m    784\u001B[0m ax\u001B[38;5;241m.\u001B[39maxis(\u001B[38;5;124m'\u001B[39m\u001B[38;5;124mtight\u001B[39m\u001B[38;5;124m'\u001B[39m)\n\u001B[1;32m    785\u001B[0m ax\u001B[38;5;241m.\u001B[39mset_title(title)\n\u001B[0;32m--> 786\u001B[0m the_table \u001B[38;5;241m=\u001B[39m \u001B[43max\u001B[49m\u001B[38;5;241;43m.\u001B[39;49m\u001B[43mtable\u001B[49m\u001B[43m(\u001B[49m\u001B[43mcellText\u001B[49m\u001B[38;5;241;43m=\u001B[39;49m\u001B[43mbody\u001B[49m\u001B[43m,\u001B[49m\u001B[43m \u001B[49m\u001B[43mrowLabels\u001B[49m\u001B[38;5;241;43m=\u001B[39;49m\u001B[43my_labels\u001B[49m\u001B[43m,\u001B[49m\u001B[43m \u001B[49m\u001B[43mcolLabels\u001B[49m\u001B[38;5;241;43m=\u001B[39;49m\u001B[43mx_labels\u001B[49m\u001B[43m,\u001B[49m\n\u001B[1;32m    787\u001B[0m \u001B[43m                     \u001B[49m\u001B[43mloc\u001B[49m\u001B[38;5;241;43m=\u001B[39;49m\u001B[38;5;124;43m'\u001B[39;49m\u001B[38;5;124;43mcenter\u001B[39;49m\u001B[38;5;124;43m'\u001B[39;49m\u001B[43m,\u001B[49m\u001B[43m \u001B[49m\u001B[43mcellLoc\u001B[49m\u001B[38;5;241;43m=\u001B[39;49m\u001B[38;5;124;43m'\u001B[39;49m\u001B[38;5;124;43mcenter\u001B[39;49m\u001B[38;5;124;43m'\u001B[39;49m\u001B[43m,\u001B[49m\u001B[43m \u001B[49m\u001B[43medges\u001B[49m\u001B[38;5;241;43m=\u001B[39;49m\u001B[38;5;124;43m'\u001B[39;49m\u001B[38;5;124;43mhorizontal\u001B[39;49m\u001B[38;5;124;43m'\u001B[39;49m\u001B[43m,\u001B[49m\u001B[43m \u001B[49m\u001B[43mfontsize\u001B[49m\u001B[38;5;241;43m=\u001B[39;49m\u001B[38;5;241;43m10.\u001B[39;49m\u001B[43m)\u001B[49m\n\u001B[1;32m    788\u001B[0m the_table\u001B[38;5;241m.\u001B[39mauto_set_font_size(\u001B[38;5;28;01mFalse\u001B[39;00m)\n\u001B[1;32m    789\u001B[0m the_table\u001B[38;5;241m.\u001B[39mauto_set_column_width(col\u001B[38;5;241m=\u001B[39m\u001B[38;5;28mlist\u001B[39m(\u001B[38;5;28mrange\u001B[39m(\u001B[38;5;28mlen\u001B[39m(x_labels))))\n",
      "File \u001B[0;32m/dati/luca/Uni-Luca/Tesi/progetto/venv/lib/python3.9/site-packages/matplotlib/table.py:761\u001B[0m, in \u001B[0;36mtable\u001B[0;34m(ax, cellText, cellColours, cellLoc, colWidths, rowLabels, rowColours, rowLoc, colLabels, colColours, colLoc, loc, bbox, edges, **kwargs)\u001B[0m\n\u001B[1;32m    759\u001B[0m \u001B[38;5;66;03m# Set colwidths if not given\u001B[39;00m\n\u001B[1;32m    760\u001B[0m \u001B[38;5;28;01mif\u001B[39;00m colWidths \u001B[38;5;129;01mis\u001B[39;00m \u001B[38;5;28;01mNone\u001B[39;00m:\n\u001B[0;32m--> 761\u001B[0m     colWidths \u001B[38;5;241m=\u001B[39m [\u001B[38;5;241;43m1.0\u001B[39;49m\u001B[43m \u001B[49m\u001B[38;5;241;43m/\u001B[39;49m\u001B[43m \u001B[49m\u001B[43mcols\u001B[49m] \u001B[38;5;241m*\u001B[39m cols\n\u001B[1;32m    763\u001B[0m \u001B[38;5;66;03m# Fill in missing information for column\u001B[39;00m\n\u001B[1;32m    764\u001B[0m \u001B[38;5;66;03m# and row labels\u001B[39;00m\n\u001B[1;32m    765\u001B[0m rowLabelWidth \u001B[38;5;241m=\u001B[39m \u001B[38;5;241m0\u001B[39m\n",
      "\u001B[0;31mZeroDivisionError\u001B[0m: float division by zero"
     ]
    },
    {
     "data": {
      "text/plain": "<Figure size 72x144 with 1 Axes>",
      "image/png": "[encoded data removed]"
     },
     "metadata": {
      "needs_background": "light"
     },
     "output_type": "display_data"
    }
   ],
   "source": [
    "%%time\n",
    "\n",
    "hp = ['units', 'spectral radius', 'connectivity', 'G.S.R.', 'bias scaling', 'input scaling', 'leaky', 'learning', 'partition']\n",
    "\n",
    "for class_name in benchmarks.list_classes():\n",
    "    for experiment_name in benchmarks.list_experiments():\n",
    "        benchmarks.plot_datasets_summary(class_name=class_name, experiment=experiment_name, show=False)\n",
    "\n",
    "for dataset in benchmarks.list_datasets():\n",
    "    for class_name in benchmarks.list_classes():\n",
    "        success = benchmarks.plot_lines_by_key(dataset, class_name, show=False)\n",
    "        if not success:\n",
    "            continue\n",
    "        benchmarks.plot_summary_histogram(dataset, class_name, show=False)\n",
    "\n",
    "        #benchmarks.plot_by_experiment(dataset, class_name, show=False)\n",
    "        #benchmarks.plot_by_model(dataset, class_name, show=False)\n",
    "\n",
    "        benchmarks.plot_summary_table(dataset, class_name, show=False)\n",
    "\n",
    "        for experiment in benchmarks.list_experiments():\n",
    "            benchmarks.plot_hp_table_by_experiment(dataset, class_name, experiment, hp, show=False)\n",
    "        for model in benchmarks.list_models():\n",
    "            benchmarks.plot_hp_table_by_model(dataset, class_name, model, hp, show=False)\n"
   ],
   "metadata": {
    "collapsed": false,
    "pycharm": {
     "name": "#%%\n"
    }
   }
  }
 ],
 "metadata": {
  "kernelspec": {
   "name": "venv",
   "language": "python",
   "display_name": "venv"
  },
  "language_info": {
   "codemirror_mode": {
    "name": "ipython",
    "version": 2
   },
   "file_extension": ".py",
   "mimetype": "text/x-python",
   "name": "python",
   "nbconvert_exporter": "python",
   "pygments_lexer": "ipython2",
   "version": "2.7.6"
  }
 },
 "nbformat": 4,
 "nbformat_minor": 0
}