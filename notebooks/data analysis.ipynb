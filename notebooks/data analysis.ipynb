{
 "cells": [
  {
   "cell_type": "code",
   "execution_count": 1,
   "outputs": [],
   "source": [
    "%load_ext autoreload\n",
    "%autoreload 2"
   ],
   "metadata": {
    "collapsed": false,
    "pycharm": {
     "name": "#%%\n"
    }
   }
  },
  {
   "cell_type": "code",
   "execution_count": 2,
   "outputs": [],
   "source": [
    "from benchmarks import *\n",
    "from plotting import *\n",
    "PROJECT_ROOT = os.path.abspath(os.getcwd() + os.sep + os.pardir)\n",
    "BENCHMARKS_DIR = os.path.join(PROJECT_ROOT, \"benchmarks\")"
   ],
   "metadata": {
    "collapsed": false,
    "pycharm": {
     "name": "#%%\n"
    }
   }
  },
  {
   "cell_type": "code",
   "execution_count": 3,
   "outputs": [
    {
     "name": "stdout",
     "output_type": "stream",
     "text": [
      "['ArticularyWordRecognition', 'CharacterTrajectories', 'Epilepsy', 'JapaneseVowels', 'Libras', 'SpokenArabicDigits']\n",
      "['Multiple S.R.', 'Reference', 'Single S.R.']\n",
      "['Units 100']\n",
      "['ESN', 'IRESN', 'IIRESN', 'IIRESNvsr']\n"
     ]
    }
   ],
   "source": [
    "from plotting import Plotter\n",
    "\n",
    "TUNER = \"RandomSearch\"  # \"Hyperband\" or \"BayesianOptimization\" or \"RandomSearch\" or \"origin\"\n",
    "MAX_EPOCHS = 500\n",
    "MAX_TRIALS = 500\n",
    "DESC = \"testFinale\"\n",
    "\n",
    "TUNER_STRING = TUNER + \".\" + str(MAX_EPOCHS) + \"me\" + str(MAX_TRIALS) + \"mt.\" + DESC\n",
    "\n",
    "PATH = os.path.join(BENCHMARKS_DIR, TUNER_STRING + \".json\")\n",
    "#PATH = \"/home/luca/tesi tmp/benchmarks.json\"\n",
    "\n",
    "benchmarks = BenchmarksDB(load_path=PATH)\n",
    "print(benchmarks.list_datasets())\n",
    "print(benchmarks.list_classes())\n",
    "print(benchmarks.list_experiments())\n",
    "print(benchmarks.list_models())\n",
    "\n",
    "plotter = Plotter(benchmarks, \"/tmp/plots/FINALE\")"
   ],
   "metadata": {
    "collapsed": false,
    "pycharm": {
     "name": "#%%\n"
    }
   }
  },
  {
   "cell_type": "code",
   "execution_count": 12,
   "outputs": [
    {
     "name": "stdout",
     "output_type": "stream",
     "text": [
      "/tmp/plots/FINALE/table.tex\n"
     ]
    }
   ],
   "source": [
    "plotter.print_latex_table()"
   ],
   "metadata": {
    "collapsed": false,
    "pycharm": {
     "name": "#%%\n"
    }
   }
  },
  {
   "cell_type": "code",
   "execution_count": 30,
   "outputs": [
    {
     "name": "stdout",
     "output_type": "stream",
     "text": [
      "[0.   0.84 2.  ]\n",
      "[0.   0.84 2.  ]\n",
      "[0.   0.84 2.  ]\n",
      "[0.   0.84 2.  ]\n",
      "[0.   0.84 2.  ]\n",
      "[0.   0.84 2.  ]\n",
      "/tmp/plots/FINALE/summary_plot.png\n"
     ]
    }
   ],
   "source": [
    "plotter.histograms_summary()"
   ],
   "metadata": {
    "collapsed": false,
    "pycharm": {
     "name": "#%%\n"
    }
   }
  },
  {
   "cell_type": "code",
   "execution_count": 5,
   "outputs": [
    {
     "name": "stdout",
     "output_type": "stream",
     "text": [
      "/tmp/plots/FINALE2/summary_table.png\n"
     ]
    },
    {
     "name": "stderr",
     "output_type": "stream",
     "text": [
      "/dati/luca/Uni-Luca/Tesi/progetto/notebooks/benchmarks.py:240: UserWarning: Matplotlib is currently using module://matplotlib_inline.backend_inline, which is a non-GUI backend, so cannot show the figure.\n",
      "  fig.show()\n"
     ]
    },
    {
     "name": "stdout",
     "output_type": "stream",
     "text": [
      "/tmp/plots/FINALE2/ArticularyWordRecognition/bars_articularywordrecognition.png\n",
      "/tmp/plots/FINALE2/ArticularyWordRecognition/multiple_s.r./hp_table_by_units_100.png\n",
      "/tmp/plots/FINALE2/ArticularyWordRecognition/single_s.r./hp_table_by_units_100.png\n",
      "/tmp/plots/FINALE2/CharacterTrajectories/bars_charactertrajectories.png\n",
      "/tmp/plots/FINALE2/CharacterTrajectories/multiple_s.r./hp_table_by_units_100.png\n",
      "/tmp/plots/FINALE2/CharacterTrajectories/single_s.r./hp_table_by_units_100.png\n",
      "/tmp/plots/FINALE2/Epilepsy/bars_epilepsy.png\n",
      "/tmp/plots/FINALE2/Epilepsy/multiple_s.r./hp_table_by_units_100.png\n",
      "/tmp/plots/FINALE2/Epilepsy/single_s.r./hp_table_by_units_100.png\n",
      "/tmp/plots/FINALE2/JapaneseVowels/bars_japanesevowels.png\n",
      "/tmp/plots/FINALE2/JapaneseVowels/multiple_s.r./hp_table_by_units_100.png\n",
      "/tmp/plots/FINALE2/JapaneseVowels/single_s.r./hp_table_by_units_100.png\n",
      "/tmp/plots/FINALE2/Libras/bars_libras.png\n",
      "/tmp/plots/FINALE2/Libras/multiple_s.r./hp_table_by_units_100.png\n",
      "/tmp/plots/FINALE2/Libras/single_s.r./hp_table_by_units_100.png\n",
      "/tmp/plots/FINALE2/SpokenArabicDigits/bars_spokenarabicdigits.png\n",
      "/tmp/plots/FINALE2/SpokenArabicDigits/multiple_s.r./hp_table_by_units_100.png\n",
      "/tmp/plots/FINALE2/SpokenArabicDigits/single_s.r./hp_table_by_units_100.png\n"
     ]
    }
   ],
   "source": [
    "hp = ['units', 'spectral radius', 'connectivity', 'G.S.R.', 'bias scaling', 'input scaling', 'leaky', 'learning', 'partition']\n",
    "benchmarks.plot_global_summary_table()\n",
    "for dataset in benchmarks.list_datasets():\n",
    "    benchmarks.plot_dataset_histogram(dataset, show=False)\n",
    "    for class_name in benchmarks.list_classes():\n",
    "        for experiment in benchmarks.list_experiments():\n",
    "            benchmarks.plot_hp_table_by_experiment(dataset, class_name, experiment, hp, show=False)"
   ],
   "metadata": {
    "collapsed": false,
    "pycharm": {
     "name": "#%%\n"
    }
   }
  },
  {
   "cell_type": "code",
   "execution_count": 6,
   "outputs": [
    {
     "name": "stdout",
     "output_type": "stream",
     "text": [
      "/tmp/plots/FINALE2/datasets_summary_multiple_s.r._units_100.svg\n",
      "/tmp/plots/FINALE2/datasets_summary_single_s.r._units_100.svg\n",
      "/tmp/plots/FINALE2/ArticularyWordRecognition/multiple_s.r./summary_plots.svg\n",
      "/tmp/plots/FINALE2/ArticularyWordRecognition/multiple_s.r./summary_histograms.svg\n",
      "/tmp/plots/FINALE2/ArticularyWordRecognition/multiple_s.r./summary_table.svg\n",
      "/tmp/plots/FINALE2/ArticularyWordRecognition/multiple_s.r./hp_table_by_units_100.svg\n",
      "/tmp/plots/FINALE2/ArticularyWordRecognition/multiple_s.r./hp_table_by_esn.svg\n",
      "/tmp/plots/FINALE2/ArticularyWordRecognition/multiple_s.r./hp_table_by_iresn.svg\n",
      "/tmp/plots/FINALE2/ArticularyWordRecognition/multiple_s.r./hp_table_by_iiresn.svg\n",
      "/tmp/plots/FINALE2/ArticularyWordRecognition/multiple_s.r./hp_table_by_iiresnvsr.svg\n",
      "/tmp/plots/FINALE2/ArticularyWordRecognition/single_s.r./summary_plots.svg\n",
      "/tmp/plots/FINALE2/ArticularyWordRecognition/single_s.r./summary_histograms.svg\n",
      "/tmp/plots/FINALE2/ArticularyWordRecognition/single_s.r./summary_table.svg\n",
      "/tmp/plots/FINALE2/ArticularyWordRecognition/single_s.r./hp_table_by_units_100.svg\n",
      "/tmp/plots/FINALE2/ArticularyWordRecognition/single_s.r./hp_table_by_esn.svg\n",
      "/tmp/plots/FINALE2/ArticularyWordRecognition/single_s.r./hp_table_by_iresn.svg\n",
      "/tmp/plots/FINALE2/ArticularyWordRecognition/single_s.r./hp_table_by_iiresn.svg\n",
      "/tmp/plots/FINALE2/ArticularyWordRecognition/single_s.r./hp_table_by_iiresnvsr.svg\n",
      "/tmp/plots/FINALE2/CharacterTrajectories/multiple_s.r./summary_plots.svg\n",
      "/tmp/plots/FINALE2/CharacterTrajectories/multiple_s.r./summary_histograms.svg\n",
      "/tmp/plots/FINALE2/CharacterTrajectories/multiple_s.r./summary_table.svg\n",
      "/tmp/plots/FINALE2/CharacterTrajectories/multiple_s.r./hp_table_by_units_100.svg\n",
      "/tmp/plots/FINALE2/CharacterTrajectories/multiple_s.r./hp_table_by_esn.svg\n",
      "/tmp/plots/FINALE2/CharacterTrajectories/multiple_s.r./hp_table_by_iresn.svg\n",
      "/tmp/plots/FINALE2/CharacterTrajectories/multiple_s.r./hp_table_by_iiresn.svg\n",
      "/tmp/plots/FINALE2/CharacterTrajectories/multiple_s.r./hp_table_by_iiresnvsr.svg\n",
      "/tmp/plots/FINALE2/CharacterTrajectories/single_s.r./summary_plots.svg\n",
      "/tmp/plots/FINALE2/CharacterTrajectories/single_s.r./summary_histograms.svg\n",
      "/tmp/plots/FINALE2/CharacterTrajectories/single_s.r./summary_table.svg\n",
      "/tmp/plots/FINALE2/CharacterTrajectories/single_s.r./hp_table_by_units_100.svg\n",
      "/tmp/plots/FINALE2/CharacterTrajectories/single_s.r./hp_table_by_esn.svg\n",
      "/tmp/plots/FINALE2/CharacterTrajectories/single_s.r./hp_table_by_iresn.svg\n",
      "/tmp/plots/FINALE2/CharacterTrajectories/single_s.r./hp_table_by_iiresn.svg\n",
      "/tmp/plots/FINALE2/CharacterTrajectories/single_s.r./hp_table_by_iiresnvsr.svg\n",
      "/tmp/plots/FINALE2/Epilepsy/multiple_s.r./summary_plots.svg\n",
      "/tmp/plots/FINALE2/Epilepsy/multiple_s.r./summary_histograms.svg\n",
      "/tmp/plots/FINALE2/Epilepsy/multiple_s.r./summary_table.svg\n",
      "/tmp/plots/FINALE2/Epilepsy/multiple_s.r./hp_table_by_units_100.svg\n",
      "/tmp/plots/FINALE2/Epilepsy/multiple_s.r./hp_table_by_esn.svg\n",
      "/tmp/plots/FINALE2/Epilepsy/multiple_s.r./hp_table_by_iresn.svg\n",
      "/tmp/plots/FINALE2/Epilepsy/multiple_s.r./hp_table_by_iiresn.svg\n",
      "/tmp/plots/FINALE2/Epilepsy/multiple_s.r./hp_table_by_iiresnvsr.svg\n",
      "/tmp/plots/FINALE2/Epilepsy/single_s.r./summary_plots.svg\n",
      "/tmp/plots/FINALE2/Epilepsy/single_s.r./summary_histograms.svg\n",
      "/tmp/plots/FINALE2/Epilepsy/single_s.r./summary_table.svg\n",
      "/tmp/plots/FINALE2/Epilepsy/single_s.r./hp_table_by_units_100.svg\n",
      "/tmp/plots/FINALE2/Epilepsy/single_s.r./hp_table_by_esn.svg\n",
      "/tmp/plots/FINALE2/Epilepsy/single_s.r./hp_table_by_iresn.svg\n",
      "/tmp/plots/FINALE2/Epilepsy/single_s.r./hp_table_by_iiresn.svg\n",
      "/tmp/plots/FINALE2/Epilepsy/single_s.r./hp_table_by_iiresnvsr.svg\n",
      "/tmp/plots/FINALE2/JapaneseVowels/multiple_s.r./summary_plots.svg\n",
      "/tmp/plots/FINALE2/JapaneseVowels/multiple_s.r./summary_histograms.svg\n",
      "/tmp/plots/FINALE2/JapaneseVowels/multiple_s.r./summary_table.svg\n",
      "/tmp/plots/FINALE2/JapaneseVowels/multiple_s.r./hp_table_by_units_100.svg\n",
      "/tmp/plots/FINALE2/JapaneseVowels/multiple_s.r./hp_table_by_esn.svg\n",
      "/tmp/plots/FINALE2/JapaneseVowels/multiple_s.r./hp_table_by_iresn.svg\n",
      "/tmp/plots/FINALE2/JapaneseVowels/multiple_s.r./hp_table_by_iiresn.svg\n",
      "/tmp/plots/FINALE2/JapaneseVowels/multiple_s.r./hp_table_by_iiresnvsr.svg\n",
      "/tmp/plots/FINALE2/JapaneseVowels/single_s.r./summary_plots.svg\n",
      "/tmp/plots/FINALE2/JapaneseVowels/single_s.r./summary_histograms.svg\n",
      "/tmp/plots/FINALE2/JapaneseVowels/single_s.r./summary_table.svg\n",
      "/tmp/plots/FINALE2/JapaneseVowels/single_s.r./hp_table_by_units_100.svg\n",
      "/tmp/plots/FINALE2/JapaneseVowels/single_s.r./hp_table_by_esn.svg\n",
      "/tmp/plots/FINALE2/JapaneseVowels/single_s.r./hp_table_by_iresn.svg\n",
      "/tmp/plots/FINALE2/JapaneseVowels/single_s.r./hp_table_by_iiresn.svg\n",
      "/tmp/plots/FINALE2/JapaneseVowels/single_s.r./hp_table_by_iiresnvsr.svg\n",
      "/tmp/plots/FINALE2/Libras/multiple_s.r./summary_plots.svg\n",
      "/tmp/plots/FINALE2/Libras/multiple_s.r./summary_histograms.svg\n",
      "/tmp/plots/FINALE2/Libras/multiple_s.r./summary_table.svg\n",
      "/tmp/plots/FINALE2/Libras/multiple_s.r./hp_table_by_units_100.svg\n",
      "/tmp/plots/FINALE2/Libras/multiple_s.r./hp_table_by_esn.svg\n",
      "/tmp/plots/FINALE2/Libras/multiple_s.r./hp_table_by_iresn.svg\n",
      "/tmp/plots/FINALE2/Libras/multiple_s.r./hp_table_by_iiresn.svg\n",
      "/tmp/plots/FINALE2/Libras/multiple_s.r./hp_table_by_iiresnvsr.svg\n",
      "/tmp/plots/FINALE2/Libras/single_s.r./summary_plots.svg\n",
      "/tmp/plots/FINALE2/Libras/single_s.r./summary_histograms.svg\n",
      "/tmp/plots/FINALE2/Libras/single_s.r./summary_table.svg\n",
      "/tmp/plots/FINALE2/Libras/single_s.r./hp_table_by_units_100.svg\n",
      "/tmp/plots/FINALE2/Libras/single_s.r./hp_table_by_esn.svg\n",
      "/tmp/plots/FINALE2/Libras/single_s.r./hp_table_by_iresn.svg\n",
      "/tmp/plots/FINALE2/Libras/single_s.r./hp_table_by_iiresn.svg\n",
      "/tmp/plots/FINALE2/Libras/single_s.r./hp_table_by_iiresnvsr.svg\n",
      "/tmp/plots/FINALE2/SpokenArabicDigits/multiple_s.r./summary_plots.svg\n",
      "/tmp/plots/FINALE2/SpokenArabicDigits/multiple_s.r./summary_histograms.svg\n",
      "/tmp/plots/FINALE2/SpokenArabicDigits/multiple_s.r./summary_table.svg\n",
      "/tmp/plots/FINALE2/SpokenArabicDigits/multiple_s.r./hp_table_by_units_100.svg\n",
      "/tmp/plots/FINALE2/SpokenArabicDigits/multiple_s.r./hp_table_by_esn.svg\n",
      "/tmp/plots/FINALE2/SpokenArabicDigits/multiple_s.r./hp_table_by_iresn.svg\n",
      "/tmp/plots/FINALE2/SpokenArabicDigits/multiple_s.r./hp_table_by_iiresn.svg\n",
      "/tmp/plots/FINALE2/SpokenArabicDigits/multiple_s.r./hp_table_by_iiresnvsr.svg\n",
      "/tmp/plots/FINALE2/SpokenArabicDigits/single_s.r./summary_plots.svg\n",
      "/tmp/plots/FINALE2/SpokenArabicDigits/single_s.r./summary_histograms.svg\n",
      "/tmp/plots/FINALE2/SpokenArabicDigits/single_s.r./summary_table.svg\n",
      "/tmp/plots/FINALE2/SpokenArabicDigits/single_s.r./hp_table_by_units_100.svg\n",
      "/tmp/plots/FINALE2/SpokenArabicDigits/single_s.r./hp_table_by_esn.svg\n",
      "/tmp/plots/FINALE2/SpokenArabicDigits/single_s.r./hp_table_by_iresn.svg\n",
      "/tmp/plots/FINALE2/SpokenArabicDigits/single_s.r./hp_table_by_iiresn.svg\n",
      "/tmp/plots/FINALE2/SpokenArabicDigits/single_s.r./hp_table_by_iiresnvsr.svg\n",
      "CPU times: user 13.8 s, sys: 12.4 s, total: 26.3 s\n",
      "Wall time: 10.2 s\n"
     ]
    }
   ],
   "source": [
    "%%time\n",
    "\n",
    "for class_name in benchmarks.list_classes():\n",
    "    for experiment_name in benchmarks.list_experiments():\n",
    "        benchmarks.plot_datasets_summary(class_name=class_name, experiment=experiment_name, show=False)\n",
    "\n",
    "for dataset in benchmarks.list_datasets():\n",
    "    for class_name in benchmarks.list_classes():\n",
    "        success = benchmarks.plot_lines_by_key(dataset, class_name, show=False)\n",
    "        if not success:\n",
    "            continue\n",
    "        benchmarks.plot_summary_histogram(dataset, class_name, show=False)\n",
    "\n",
    "        #benchmarks.plot_by_experiment(dataset, class_name, show=False)\n",
    "        #benchmarks.plot_by_model(dataset, class_name, show=False)\n",
    "\n",
    "        benchmarks.plot_summary_table_by_class(dataset, class_name, show=False)\n",
    "\n",
    "        for experiment in benchmarks.list_experiments():\n",
    "            benchmarks.plot_hp_table_by_experiment(dataset, class_name, experiment, hp, show=False)\n",
    "        for model in benchmarks.list_models():\n",
    "            benchmarks.plot_hp_table_by_model(dataset, class_name, model, hp, show=False)\n"
   ],
   "metadata": {
    "collapsed": false,
    "pycharm": {
     "name": "#%%\n"
    }
   }
  }
 ],
 "metadata": {
  "kernelspec": {
   "name": "venv",
   "language": "python",
   "display_name": "venv"
  },
  "language_info": {
   "codemirror_mode": {
    "name": "ipython",
    "version": 2
   },
   "file_extension": ".py",
   "mimetype": "text/x-python",
   "name": "python",
   "nbconvert_exporter": "python",
   "pygments_lexer": "ipython2",
   "version": "2.7.6"
  }
 },
 "nbformat": 4,
 "nbformat_minor": 0
}